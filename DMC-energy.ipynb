{
 "cells": [
  {
   "cell_type": "markdown",
   "metadata": {},
   "source": [
    "# Monte Carlo method\n",
    "\n",
    "### Exercise: area of a circle"
   ]
  },
  {
   "cell_type": "code",
   "execution_count": 100,
   "metadata": {},
   "outputs": [
    {
     "name": "stdout",
     "output_type": "stream",
     "text": [
      "3.1248\n"
     ]
    },
    {
     "data": {
      "image/png": "[encoded data removed]",
      "text/plain": [
       "<Figure size 432x288 with 1 Axes>"
      ]
     },
     "metadata": {
      "needs_background": "light"
     },
     "output_type": "display_data"
    }
   ],
   "source": [
    "import random\n",
    "import matplotlib.pyplot as plt\n",
    "\n",
    "\n",
    "\n",
    "n=0.0;\n",
    "r=10000;\n",
    "for i in range(1,r):\n",
    "    x=random.uniform(-1, 1);\n",
    "    y=random.uniform(-1, 1);\n",
    "    if (x*x+y*y)<=1:\n",
    "        n=n+1;\n",
    "    \n",
    "print(4*n/r)\n",
    "plt.plot([1,2,3,4,4.1,4.2])\n",
    "\n",
    "plt.show()"
   ]
  },
  {
   "cell_type": "markdown",
   "metadata": {},
   "source": [
    "# Diffusion Monte Carlo\n",
    "\n",
    "### Find the ground state wavefunction and energy for the harmonic oscillator\n"
   ]
  },
  {
   "cell_type": "code",
   "execution_count": 7,
   "metadata": {},
   "outputs": [
    {
     "data": {
      "image/png": "[encoded data removed]",
      "text/plain": [
       "<Figure size 432x288 with 1 Axes>"
      ]
     },
     "metadata": {
      "needs_background": "light"
     },
     "output_type": "display_data"
    }
   ],
   "source": [
    "#INPUT\n",
    "\n",
    "import numpy as np\n",
    "import matplotlib.pyplot as plt\n",
    "import math\n",
    "\n",
    "#constants\n",
    "n0=500;\n",
    "nMax=2000;\n",
    "t0=1000;\n",
    "deltaT=0.01;\n",
    "xMin=-20.0;\n",
    "xMax=20.0\n",
    "nb=200; #number of spatial boxes\n",
    "# hBar = 1.054571726*pow(10,-47) #hbar=1\n",
    "\n",
    "e_R = 0.2\n",
    "\n",
    "steps=math.floor(t0/deltaT)\n",
    "\n",
    "er1=[0]*(steps+1) #contains all the energies\n",
    "er1[0]=e_R\n",
    "totalE=e_R\n",
    "er2=[0]*(steps+1) #contains all the reference energies\n",
    "er2[0]=e_R\n",
    "\n",
    "psips=initialise_replicas(n0,nMax) #two dimensional matrix psips\n",
    "\n",
    "\n",
    "for i in range (0,steps):\n",
    "#     print(psips)\n",
    "    psips=walk(psips,deltaT)\n",
    "    psips, e_R, n1, n2 = branch(psips,e_R,deltaT,nMax)\n",
    "    er1[i+1]=e_R\n",
    "    totalE+=e_R\n",
    "    er2[i+1]=totalE/(i+2)\n",
    "#     print(er1[i+1], end=\" \");    print(er2[i+1], end=\" \"); print (n1)\n",
    "    if n1==0:\n",
    "        break\n",
    "    if n2==0:\n",
    "        break\n",
    "        \n",
    "plt.plot(er2)\n",
    "plt.show()"
   ]
  },
  {
   "cell_type": "code",
   "execution_count": 4,
   "metadata": {},
   "outputs": [],
   "source": [
    "#INITIALISE REPLICAS\n",
    "\n",
    "\n",
    "def initialise_replicas(n0,nMax):\n",
    "    psips=[[0 for i in range(0,2)] for i in range (0,nMax)];\n",
    "    for i in range (0,n0):\n",
    "        psips[i][0]=1;\n",
    "\n",
    "\n",
    "    return psips;\n",
    "\n"
   ]
  },
  {
   "cell_type": "code",
   "execution_count": 5,
   "metadata": {},
   "outputs": [],
   "source": [
    "#WALK\n",
    "import math\n",
    "from random import gauss\n",
    "\n",
    "def walk(psips,deltaT):\n",
    "    for i in range (0,len(psips)):\n",
    "        if psips[i][0]==1:\n",
    "            psips[i][1]=psips[i][1]+math.sqrt(deltaT)*gauss(0.0,1.0);\n",
    "\n",
    "    return psips;\n",
    "\n"
   ]
  },
  {
   "cell_type": "code",
   "execution_count": 6,
   "metadata": {},
   "outputs": [],
   "source": [
    "#BRANCH\n",
    "import math\n",
    "import random\n",
    "\n",
    "\n",
    "def branch(psips,e_R,deltaT,nMax):\n",
    "    \n",
    "\n",
    "    hbar = 1.054571726*pow(10,-34) \n",
    "#     calculate the initial number of replicas\n",
    "    nInitial=0\n",
    "    for i in range(0,len(psips)):\n",
    "        if psips[i][0]==1:\n",
    "            nInitial+=1\n",
    "            \n",
    "#     determine a stopping point\n",
    "    last=0\n",
    "    for i in reversed(range(0,len(psips))):\n",
    "        if psips[i][0]==1:\n",
    "            last=i\n",
    "            break\n",
    "    \n",
    "#     birth-death process\n",
    "\n",
    "    m_0=0; m_1=0; m_2=0; m_3=0 #number of particles that have m=0/1/2/3\n",
    "    \n",
    "    \n",
    "    vSum=0\n",
    "    nFinal=0\n",
    "    for i in range(0,last+1):\n",
    "        if(psips[i][0]==1):\n",
    "            v= 0.5*pow(psips[i][1],2)\n",
    "            w= math.exp(-(v-e_R)*deltaT)\n",
    "            u= random.uniform(0,1)\n",
    "            m= min(math.modf(w+u)[1],3) # each particle is replaced by m ones\n",
    "            if m==0:\n",
    "                m_0+=1\n",
    "                psips[i][0]=0; #dead\n",
    "            if m==1:\n",
    "                m_1+=1\n",
    "                vSum+=v\n",
    "                nFinal+=1\n",
    "            if m==2:\n",
    "                m_2+=1\n",
    "                vSum+=2*v\n",
    "                nFinal+=2\n",
    "                for j in range(0,len(psips)):\n",
    "                    if(psips[j][0]==0):\n",
    "                        psips[j][0]=1\n",
    "                        psips[j][1]=psips[i][1]\n",
    "                        break\n",
    "            if m==3:\n",
    "                m_3+=1\n",
    "                vSum+=3*v\n",
    "                nFinal+=3\n",
    "                for j in range(0,len(psips)):\n",
    "                    if(psips[j][0]==0):\n",
    "                        psips[j][0]=1\n",
    "                        psips[j][1]=psips[i][1]\n",
    "                        break\n",
    "                for j in range(0,len(psips)):\n",
    "                    if(psips[j][0]==0):\n",
    "                        psips[j][0]=1\n",
    "                        psips[j][1]=psips[i][1]\n",
    "                        break\n",
    "\n",
    "#     print(m_0,end=\" \");    print(m_1,end=\" \");    print(m_2,end=\" \");    print(m_3,end=\" \");\n",
    "\n",
    "#     calculate energies and average potential\n",
    "    if nFinal!=0:\n",
    "        vAverage=vSum/nFinal\n",
    "        e_R=vAverage + hbar*(1-nFinal/nInitial)/deltaT\n",
    "\n",
    "    return psips, e_R, nInitial, nFinal;\n",
    "\n"
   ]
  },
  {
   "cell_type": "code",
   "execution_count": 86,
   "metadata": {},
   "outputs": [],
   "source": [
    "#COUNT"
   ]
  },
  {
   "cell_type": "code",
   "execution_count": 80,
   "metadata": {},
   "outputs": [],
   "source": [
    "#TEST"
   ]
  },
  {
   "cell_type": "code",
   "execution_count": null,
   "metadata": {},
   "outputs": [],
   "source": [
    "#OUTPUT"
   ]
  }
 ],
 "metadata": {
  "kernelspec": {
   "display_name": "Python 3",
   "language": "python",
   "name": "python3"
  },
  "language_info": {
   "codemirror_mode": {
    "name": "ipython",
    "version": 3
   },
   "file_extension": ".py",
   "mimetype": "text/x-python",
   "name": "python",
   "nbconvert_exporter": "python",
   "pygments_lexer": "ipython3",
   "version": "3.7.4"
  }
 },
 "nbformat": 4,
 "nbformat_minor": 2
}
